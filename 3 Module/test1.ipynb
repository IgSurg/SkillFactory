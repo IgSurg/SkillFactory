{
 "cells": [
  {
   "cell_type": "code",
   "execution_count": 72,
   "metadata": {},
   "outputs": [],
   "source": [
    "from matplotlib import pyplot as plt\n",
    "import pandas as pd\n",
    "from sklearn.model_selection import train_test_split\n",
    "from sklearn.tree import DecisionTreeRegressor\n",
    "\n",
    "from sklearn.metrics import mean_absolute_error\n",
    "from sklearn.metrics import mean_squared_error\n",
    "\n",
    "\n",
    "%matplotlib inline"
   ]
  },
  {
   "cell_type": "code",
   "execution_count": 123,
   "metadata": {},
   "outputs": [],
   "source": [
    "df = pd.read_csv('moscow_flats.csv')\n",
    "df = df[df['price'] < 15e6]"
   ]
  },
  {
   "cell_type": "code",
   "execution_count": 124,
   "metadata": {},
   "outputs": [
    {
     "data": {
      "text/html": [
       "<div>\n",
       "<style scoped>\n",
       "    .dataframe tbody tr th:only-of-type {\n",
       "        vertical-align: middle;\n",
       "    }\n",
       "\n",
       "    .dataframe tbody tr th {\n",
       "        vertical-align: top;\n",
       "    }\n",
       "\n",
       "    .dataframe thead th {\n",
       "        text-align: right;\n",
       "    }\n",
       "</style>\n",
       "<table border=\"1\" class=\"dataframe\">\n",
       "  <thead>\n",
       "    <tr style=\"text-align: right;\">\n",
       "      <th></th>\n",
       "      <th>Id</th>\n",
       "      <th>price</th>\n",
       "      <th>floor</th>\n",
       "      <th>floorTotal</th>\n",
       "      <th>metroDistance</th>\n",
       "      <th>area</th>\n",
       "      <th>rooms</th>\n",
       "      <th>distanceToCentre</th>\n",
       "    </tr>\n",
       "  </thead>\n",
       "  <tbody>\n",
       "    <tr>\n",
       "      <th>3</th>\n",
       "      <td>3</td>\n",
       "      <td>5333160</td>\n",
       "      <td>15</td>\n",
       "      <td>17</td>\n",
       "      <td>136</td>\n",
       "      <td>54.4</td>\n",
       "      <td>2</td>\n",
       "      <td>26.809075</td>\n",
       "    </tr>\n",
       "    <tr>\n",
       "      <th>4</th>\n",
       "      <td>4</td>\n",
       "      <td>3789790</td>\n",
       "      <td>17</td>\n",
       "      <td>17</td>\n",
       "      <td>120</td>\n",
       "      <td>39.1</td>\n",
       "      <td>1</td>\n",
       "      <td>26.809075</td>\n",
       "    </tr>\n",
       "    <tr>\n",
       "      <th>8</th>\n",
       "      <td>8</td>\n",
       "      <td>1250000</td>\n",
       "      <td>12</td>\n",
       "      <td>17</td>\n",
       "      <td>320</td>\n",
       "      <td>25.7</td>\n",
       "      <td>1</td>\n",
       "      <td>49.780351</td>\n",
       "    </tr>\n",
       "    <tr>\n",
       "      <th>10</th>\n",
       "      <td>11</td>\n",
       "      <td>4000000</td>\n",
       "      <td>8</td>\n",
       "      <td>9</td>\n",
       "      <td>480</td>\n",
       "      <td>67.0</td>\n",
       "      <td>3</td>\n",
       "      <td>101.706981</td>\n",
       "    </tr>\n",
       "    <tr>\n",
       "      <th>17</th>\n",
       "      <td>18</td>\n",
       "      <td>2800000</td>\n",
       "      <td>8</td>\n",
       "      <td>14</td>\n",
       "      <td>160</td>\n",
       "      <td>39.6</td>\n",
       "      <td>1</td>\n",
       "      <td>31.498761</td>\n",
       "    </tr>\n",
       "  </tbody>\n",
       "</table>\n",
       "</div>"
      ],
      "text/plain": [
       "    Id    price  floor  floorTotal  metroDistance  area  rooms  \\\n",
       "3    3  5333160     15          17            136  54.4      2   \n",
       "4    4  3789790     17          17            120  39.1      1   \n",
       "8    8  1250000     12          17            320  25.7      1   \n",
       "10  11  4000000      8           9            480  67.0      3   \n",
       "17  18  2800000      8          14            160  39.6      1   \n",
       "\n",
       "    distanceToCentre  \n",
       "3          26.809075  \n",
       "4          26.809075  \n",
       "8          49.780351  \n",
       "10        101.706981  \n",
       "17         31.498761  "
      ]
     },
     "execution_count": 124,
     "metadata": {},
     "output_type": "execute_result"
    }
   ],
   "source": [
    "df.head()"
   ]
  },
  {
   "cell_type": "code",
   "execution_count": 125,
   "metadata": {},
   "outputs": [
    {
     "data": {
      "text/html": [
       "<div>\n",
       "<style scoped>\n",
       "    .dataframe tbody tr th:only-of-type {\n",
       "        vertical-align: middle;\n",
       "    }\n",
       "\n",
       "    .dataframe tbody tr th {\n",
       "        vertical-align: top;\n",
       "    }\n",
       "\n",
       "    .dataframe thead th {\n",
       "        text-align: right;\n",
       "    }\n",
       "</style>\n",
       "<table border=\"1\" class=\"dataframe\">\n",
       "  <thead>\n",
       "    <tr style=\"text-align: right;\">\n",
       "      <th></th>\n",
       "      <th>count</th>\n",
       "      <th>mean</th>\n",
       "      <th>std</th>\n",
       "      <th>min</th>\n",
       "      <th>25%</th>\n",
       "      <th>50%</th>\n",
       "      <th>75%</th>\n",
       "      <th>max</th>\n",
       "    </tr>\n",
       "  </thead>\n",
       "  <tbody>\n",
       "    <tr>\n",
       "      <th>Id</th>\n",
       "      <td>1431.0</td>\n",
       "      <td>1.511157e+03</td>\n",
       "      <td>7.680160e+02</td>\n",
       "      <td>3.000000e+00</td>\n",
       "      <td>8.780000e+02</td>\n",
       "      <td>1.658000e+03</td>\n",
       "      <td>2.203500e+03</td>\n",
       "      <td>2.697000e+03</td>\n",
       "    </tr>\n",
       "    <tr>\n",
       "      <th>price</th>\n",
       "      <td>1431.0</td>\n",
       "      <td>4.755582e+06</td>\n",
       "      <td>2.792511e+06</td>\n",
       "      <td>1.100000e+06</td>\n",
       "      <td>3.086055e+06</td>\n",
       "      <td>3.750000e+06</td>\n",
       "      <td>5.070560e+06</td>\n",
       "      <td>1.490000e+07</td>\n",
       "    </tr>\n",
       "    <tr>\n",
       "      <th>floor</th>\n",
       "      <td>1431.0</td>\n",
       "      <td>6.997205e+00</td>\n",
       "      <td>5.292691e+00</td>\n",
       "      <td>1.000000e+00</td>\n",
       "      <td>3.000000e+00</td>\n",
       "      <td>6.000000e+00</td>\n",
       "      <td>1.000000e+01</td>\n",
       "      <td>3.100000e+01</td>\n",
       "    </tr>\n",
       "    <tr>\n",
       "      <th>floorTotal</th>\n",
       "      <td>1431.0</td>\n",
       "      <td>1.408036e+01</td>\n",
       "      <td>6.824768e+00</td>\n",
       "      <td>2.000000e+00</td>\n",
       "      <td>9.000000e+00</td>\n",
       "      <td>1.600000e+01</td>\n",
       "      <td>1.700000e+01</td>\n",
       "      <td>7.100000e+01</td>\n",
       "    </tr>\n",
       "    <tr>\n",
       "      <th>metroDistance</th>\n",
       "      <td>1431.0</td>\n",
       "      <td>1.448658e+02</td>\n",
       "      <td>1.043101e+02</td>\n",
       "      <td>1.000000e+00</td>\n",
       "      <td>8.000000e+01</td>\n",
       "      <td>1.360000e+02</td>\n",
       "      <td>1.920000e+02</td>\n",
       "      <td>7.200000e+02</td>\n",
       "    </tr>\n",
       "    <tr>\n",
       "      <th>area</th>\n",
       "      <td>1431.0</td>\n",
       "      <td>4.593899e+01</td>\n",
       "      <td>1.373302e+01</td>\n",
       "      <td>1.280000e+01</td>\n",
       "      <td>3.670000e+01</td>\n",
       "      <td>4.260000e+01</td>\n",
       "      <td>5.340000e+01</td>\n",
       "      <td>1.170000e+02</td>\n",
       "    </tr>\n",
       "    <tr>\n",
       "      <th>rooms</th>\n",
       "      <td>1431.0</td>\n",
       "      <td>1.446541e+00</td>\n",
       "      <td>6.475669e-01</td>\n",
       "      <td>1.000000e+00</td>\n",
       "      <td>1.000000e+00</td>\n",
       "      <td>1.000000e+00</td>\n",
       "      <td>2.000000e+00</td>\n",
       "      <td>4.000000e+00</td>\n",
       "    </tr>\n",
       "    <tr>\n",
       "      <th>distanceToCentre</th>\n",
       "      <td>1431.0</td>\n",
       "      <td>2.521378e+01</td>\n",
       "      <td>1.215277e+01</td>\n",
       "      <td>1.758826e+00</td>\n",
       "      <td>1.932361e+01</td>\n",
       "      <td>2.412194e+01</td>\n",
       "      <td>3.089777e+01</td>\n",
       "      <td>1.100322e+02</td>\n",
       "    </tr>\n",
       "  </tbody>\n",
       "</table>\n",
       "</div>"
      ],
      "text/plain": [
       "                   count          mean           std           min  \\\n",
       "Id                1431.0  1.511157e+03  7.680160e+02  3.000000e+00   \n",
       "price             1431.0  4.755582e+06  2.792511e+06  1.100000e+06   \n",
       "floor             1431.0  6.997205e+00  5.292691e+00  1.000000e+00   \n",
       "floorTotal        1431.0  1.408036e+01  6.824768e+00  2.000000e+00   \n",
       "metroDistance     1431.0  1.448658e+02  1.043101e+02  1.000000e+00   \n",
       "area              1431.0  4.593899e+01  1.373302e+01  1.280000e+01   \n",
       "rooms             1431.0  1.446541e+00  6.475669e-01  1.000000e+00   \n",
       "distanceToCentre  1431.0  2.521378e+01  1.215277e+01  1.758826e+00   \n",
       "\n",
       "                           25%           50%           75%           max  \n",
       "Id                8.780000e+02  1.658000e+03  2.203500e+03  2.697000e+03  \n",
       "price             3.086055e+06  3.750000e+06  5.070560e+06  1.490000e+07  \n",
       "floor             3.000000e+00  6.000000e+00  1.000000e+01  3.100000e+01  \n",
       "floorTotal        9.000000e+00  1.600000e+01  1.700000e+01  7.100000e+01  \n",
       "metroDistance     8.000000e+01  1.360000e+02  1.920000e+02  7.200000e+02  \n",
       "area              3.670000e+01  4.260000e+01  5.340000e+01  1.170000e+02  \n",
       "rooms             1.000000e+00  1.000000e+00  2.000000e+00  4.000000e+00  \n",
       "distanceToCentre  1.932361e+01  2.412194e+01  3.089777e+01  1.100322e+02  "
      ]
     },
     "execution_count": 125,
     "metadata": {},
     "output_type": "execute_result"
    }
   ],
   "source": [
    "df.describe().T"
   ]
  },
  {
   "cell_type": "code",
   "execution_count": 126,
   "metadata": {},
   "outputs": [
    {
     "data": {
      "text/plain": [
       "Id                  False\n",
       "price               False\n",
       "floor               False\n",
       "floorTotal          False\n",
       "metroDistance       False\n",
       "area                False\n",
       "rooms               False\n",
       "distanceToCentre    False\n",
       "dtype: bool"
      ]
     },
     "execution_count": 126,
     "metadata": {},
     "output_type": "execute_result"
    }
   ],
   "source": [
    "df.isnull().any()"
   ]
  },
  {
   "cell_type": "code",
   "execution_count": 127,
   "metadata": {},
   "outputs": [],
   "source": [
    "#df.dropna()"
   ]
  },
  {
   "cell_type": "code",
   "execution_count": 128,
   "metadata": {},
   "outputs": [],
   "source": [
    "target = df['price']\n",
    "del(df['price'])"
   ]
  },
  {
   "cell_type": "code",
   "execution_count": 129,
   "metadata": {},
   "outputs": [
    {
     "data": {
      "text/plain": [
       "Index(['Id', 'floor', 'floorTotal', 'metroDistance', 'area', 'rooms',\n",
       "       'distanceToCentre'],\n",
       "      dtype='object')"
      ]
     },
     "execution_count": 129,
     "metadata": {},
     "output_type": "execute_result"
    }
   ],
   "source": [
    "df.columns"
   ]
  },
  {
   "cell_type": "code",
   "execution_count": 130,
   "metadata": {},
   "outputs": [],
   "source": [
    "df_train, df_test, target_train, target_test = train_test_split(df,target)"
   ]
  },
  {
   "cell_type": "code",
   "execution_count": 131,
   "metadata": {},
   "outputs": [],
   "source": [
    "from sklearn.linear_model import LinearRegression"
   ]
  },
  {
   "cell_type": "code",
   "execution_count": 132,
   "metadata": {},
   "outputs": [
    {
     "data": {
      "text/plain": [
       "LinearRegression(copy_X=True, fit_intercept=True, n_jobs=None,\n",
       "         normalize=False)"
      ]
     },
     "execution_count": 132,
     "metadata": {},
     "output_type": "execute_result"
    }
   ],
   "source": [
    "model = LinearRegression()\n",
    "model.fit(df_train, target_train)"
   ]
  },
  {
   "cell_type": "code",
   "execution_count": 133,
   "metadata": {},
   "outputs": [],
   "source": [
    "predicted_price = model.predict(df_test)"
   ]
  },
  {
   "cell_type": "code",
   "execution_count": 134,
   "metadata": {},
   "outputs": [
    {
     "data": {
      "text/plain": [
       "1178871.1017734837"
      ]
     },
     "execution_count": 134,
     "metadata": {},
     "output_type": "execute_result"
    }
   ],
   "source": [
    "mean_absolute_error(predicted_price, target_test)"
   ]
  },
  {
   "cell_type": "code",
   "execution_count": 135,
   "metadata": {},
   "outputs": [
    {
     "data": {
      "text/plain": [
       "0.002724260847278022"
      ]
     },
     "execution_count": 135,
     "metadata": {},
     "output_type": "execute_result"
    }
   ],
   "source": [
    "mean_squared_error(predicted_price, target_test)/10e14"
   ]
  },
  {
   "cell_type": "code",
   "execution_count": 136,
   "metadata": {},
   "outputs": [
    {
     "data": {
      "text/plain": [
       "<matplotlib.collections.PathCollection at 0x82d7f039e8>"
      ]
     },
     "execution_count": 136,
     "metadata": {},
     "output_type": "execute_result"
    },
    {
     "data": {
      "image/png": "[encoded data removed]",
      "text/plain": [
       "<Figure size 432x288 with 1 Axes>"
      ]
     },
     "metadata": {
      "needs_background": "light"
     },
     "output_type": "display_data"
    }
   ],
   "source": [
    "plt.scatter(predicted_price, target_test)\n"
   ]
  },
  {
   "cell_type": "code",
   "execution_count": 137,
   "metadata": {},
   "outputs": [
    {
     "data": {
      "text/plain": [
       "(358,)"
      ]
     },
     "execution_count": 137,
     "metadata": {},
     "output_type": "execute_result"
    }
   ],
   "source": [
    "predicted_price.shape"
   ]
  },
  {
   "cell_type": "code",
   "execution_count": 138,
   "metadata": {},
   "outputs": [
    {
     "data": {
      "text/plain": [
       "(358,)"
      ]
     },
     "execution_count": 138,
     "metadata": {},
     "output_type": "execute_result"
    }
   ],
   "source": [
    "target_test.shape"
   ]
  },
  {
   "cell_type": "code",
   "execution_count": 142,
   "metadata": {},
   "outputs": [
    {
     "data": {
      "text/plain": [
       "3162023.481982977"
      ]
     },
     "execution_count": 142,
     "metadata": {},
     "output_type": "execute_result"
    }
   ],
   "source": [
    "model.intercept_"
   ]
  },
  {
   "cell_type": "code",
   "execution_count": 141,
   "metadata": {},
   "outputs": [
    {
     "data": {
      "text/plain": [
       "[(-243.4735197804806, 'Id'),\n",
       " (37940.19743864349, 'floor'),\n",
       " (860.7516880445864, 'floorTotal'),\n",
       " (-7426.748335140207, 'metroDistance'),\n",
       " (105616.26246701054, 'area'),\n",
       " (85998.04076173723, 'rooms'),\n",
       " (-87422.0066022175, 'distanceToCentre')]"
      ]
     },
     "execution_count": 141,
     "metadata": {},
     "output_type": "execute_result"
    }
   ],
   "source": [
    "list(zip(model.coef_, df.columns))"
   ]
  },
  {
   "cell_type": "code",
   "execution_count": null,
   "metadata": {},
   "outputs": [],
   "source": []
  },
  {
   "cell_type": "code",
   "execution_count": null,
   "metadata": {},
   "outputs": [],
   "source": []
  },
  {
   "cell_type": "code",
   "execution_count": null,
   "metadata": {},
   "outputs": [],
   "source": []
  },
  {
   "cell_type": "code",
   "execution_count": 97,
   "metadata": {},
   "outputs": [],
   "source": [
    "model = DecisionTreeRegressor(max_depth=10)\n",
    "model.fit(df_train, target_train)\n",
    "predicted_price = model.predict(df_test)"
   ]
  },
  {
   "cell_type": "code",
   "execution_count": 98,
   "metadata": {},
   "outputs": [
    {
     "data": {
      "text/plain": [
       "12776595.778586626"
      ]
     },
     "execution_count": 98,
     "metadata": {},
     "output_type": "execute_result"
    }
   ],
   "source": [
    "mean_absolute_error(predicted_price, target_test)"
   ]
  },
  {
   "cell_type": "code",
   "execution_count": 99,
   "metadata": {},
   "outputs": [
    {
     "data": {
      "text/plain": [
       "1.1092874740255882"
      ]
     },
     "execution_count": 99,
     "metadata": {},
     "output_type": "execute_result"
    }
   ],
   "source": [
    "mean_squared_error(predicted_price, target_test)/10e14"
   ]
  },
  {
   "cell_type": "code",
   "execution_count": null,
   "metadata": {},
   "outputs": [],
   "source": []
  },
  {
   "cell_type": "code",
   "execution_count": 143,
   "metadata": {},
   "outputs": [],
   "source": [
    "from sklearn.ensemble import RandomForestRegressor"
   ]
  },
  {
   "cell_type": "code",
   "execution_count": 144,
   "metadata": {},
   "outputs": [
    {
     "name": "stderr",
     "output_type": "stream",
     "text": [
      "C:\\ProgramData\\Anaconda3\\lib\\site-packages\\sklearn\\ensemble\\forest.py:246: FutureWarning: The default value of n_estimators will change from 10 in version 0.20 to 100 in 0.22.\n",
      "  \"10 in version 0.20 to 100 in 0.22.\", FutureWarning)\n"
     ]
    }
   ],
   "source": [
    "model = RandomForestRegressor()\n",
    "model.fit(df_train, target_train)\n",
    "predicted_price = model.predict(df_test)"
   ]
  },
  {
   "cell_type": "code",
   "execution_count": 145,
   "metadata": {},
   "outputs": [
    {
     "data": {
      "text/plain": [
       "571549.707821229"
      ]
     },
     "execution_count": 145,
     "metadata": {},
     "output_type": "execute_result"
    }
   ],
   "source": [
    "mean_absolute_error(predicted_price, target_test)"
   ]
  },
  {
   "cell_type": "code",
   "execution_count": 146,
   "metadata": {},
   "outputs": [
    {
     "data": {
      "text/plain": [
       "0.0007836637753734153"
      ]
     },
     "execution_count": 146,
     "metadata": {},
     "output_type": "execute_result"
    }
   ],
   "source": [
    "mean_squared_error(predicted_price, target_test)/10e14"
   ]
  },
  {
   "cell_type": "code",
   "execution_count": 147,
   "metadata": {},
   "outputs": [
    {
     "data": {
      "text/plain": [
       "[(0.02383862145198355, 'Id'),\n",
       " (0.013054229072877491, 'floor'),\n",
       " (0.011948862591914012, 'floorTotal'),\n",
       " (0.02655581996606174, 'metroDistance'),\n",
       " (0.26623368696342875, 'area'),\n",
       " (0.004006442540568452, 'rooms'),\n",
       " (0.6543623374131661, 'distanceToCentre')]"
      ]
     },
     "execution_count": 147,
     "metadata": {},
     "output_type": "execute_result"
    }
   ],
   "source": [
    "list(zip(model.feature_importances_, df.columns))"
   ]
  },
  {
   "cell_type": "code",
   "execution_count": null,
   "metadata": {},
   "outputs": [],
   "source": []
  },
  {
   "cell_type": "code",
   "execution_count": 63,
   "metadata": {},
   "outputs": [],
   "source": [
    "x = [i for i in range(10)]"
   ]
  },
  {
   "cell_type": "code",
   "execution_count": 64,
   "metadata": {},
   "outputs": [],
   "source": [
    "y = [i**4 for i in range(10)]"
   ]
  },
  {
   "cell_type": "code",
   "execution_count": 60,
   "metadata": {},
   "outputs": [
    {
     "data": {
      "text/plain": [
       "([0, 1, 2, 3, 4, 5, 6, 7, 8, 9],\n",
       " [0, 1, 16, 81, 256, 625, 1296, 2401, 4096, 6561])"
      ]
     },
     "execution_count": 60,
     "metadata": {},
     "output_type": "execute_result"
    }
   ],
   "source": [
    "x,y"
   ]
  },
  {
   "cell_type": "code",
   "execution_count": null,
   "metadata": {},
   "outputs": [],
   "source": []
  }
 ],
 "metadata": {
  "kernelspec": {
   "display_name": "Python 3",
   "language": "python",
   "name": "python3"
  },
  "language_info": {
   "codemirror_mode": {
    "name": "ipython",
    "version": 3
   },
   "file_extension": ".py",
   "mimetype": "text/x-python",
   "name": "python",
   "nbconvert_exporter": "python",
   "pygments_lexer": "ipython3",
   "version": "3.7.3"
  }
 },
 "nbformat": 4,
 "nbformat_minor": 2
}

{
 "cells": [
  {
   "cell_type": "markdown",
   "metadata": {},
   "source": [
    "# Домашнее задание по модулю 3"
   ]
  },
  {
   "cell_type": "markdown",
   "metadata": {},
   "source": [
    "В задании мы будем определять качество вина по его параметрам. Набор данных, которые будут использоваться, похож на один из классических датасетов для проверки алгоритмов машинного обучения. Ссылка на оригинальный датасет и его описание: https://archive.ics.uci.edu/ml/datasets/wine+quality\n",
    "\n",
    "Будем применять немного модифицированную версию датасета, не забудьте скачать его и набор данных для проверки из материалов к модулю. "
   ]
  },
  {
   "cell_type": "code",
   "execution_count": 1,
   "metadata": {
    "scrolled": true
   },
   "outputs": [],
   "source": [
    "#импортируем стандартные библиотеки\n",
    "%matplotlib inline\n",
    "import pandas as pd\n",
    "from matplotlib import pyplot as plt"
   ]
  },
  {
   "cell_type": "markdown",
   "metadata": {},
   "source": [
    "Давайте посмотрим на датасет:"
   ]
  },
  {
   "cell_type": "code",
   "execution_count": 3,
   "metadata": {
    "scrolled": true
   },
   "outputs": [
    {
     "data": {
      "text/html": [
       "<div>\n",
       "<style scoped>\n",
       "    .dataframe tbody tr th:only-of-type {\n",
       "        vertical-align: middle;\n",
       "    }\n",
       "\n",
       "    .dataframe tbody tr th {\n",
       "        vertical-align: top;\n",
       "    }\n",
       "\n",
       "    .dataframe thead th {\n",
       "        text-align: right;\n",
       "    }\n",
       "</style>\n",
       "<table border=\"1\" class=\"dataframe\">\n",
       "  <thead>\n",
       "    <tr style=\"text-align: right;\">\n",
       "      <th></th>\n",
       "      <th>0</th>\n",
       "      <th>1</th>\n",
       "      <th>2</th>\n",
       "      <th>3</th>\n",
       "      <th>4</th>\n",
       "    </tr>\n",
       "  </thead>\n",
       "  <tbody>\n",
       "    <tr>\n",
       "      <th>fixed acidity</th>\n",
       "      <td>7.100000</td>\n",
       "      <td>5.00000</td>\n",
       "      <td>5.100000</td>\n",
       "      <td>5.300000</td>\n",
       "      <td>6.800000</td>\n",
       "    </tr>\n",
       "    <tr>\n",
       "      <th>volatile acidity</th>\n",
       "      <td>0.200000</td>\n",
       "      <td>0.28000</td>\n",
       "      <td>0.260000</td>\n",
       "      <td>0.170000</td>\n",
       "      <td>0.270000</td>\n",
       "    </tr>\n",
       "    <tr>\n",
       "      <th>citric acid</th>\n",
       "      <td>0.330000</td>\n",
       "      <td>0.35000</td>\n",
       "      <td>0.310000</td>\n",
       "      <td>0.190000</td>\n",
       "      <td>0.260000</td>\n",
       "    </tr>\n",
       "    <tr>\n",
       "      <th>residual sugar</th>\n",
       "      <td>7.100000</td>\n",
       "      <td>1.30000</td>\n",
       "      <td>14.600000</td>\n",
       "      <td>1.500000</td>\n",
       "      <td>2.100000</td>\n",
       "    </tr>\n",
       "    <tr>\n",
       "      <th>chlorides</th>\n",
       "      <td>0.043000</td>\n",
       "      <td>0.05800</td>\n",
       "      <td>0.120000</td>\n",
       "      <td>0.042000</td>\n",
       "      <td>0.046000</td>\n",
       "    </tr>\n",
       "    <tr>\n",
       "      <th>free sulfur dioxide</th>\n",
       "      <td>22.000000</td>\n",
       "      <td>40.00000</td>\n",
       "      <td>68.000000</td>\n",
       "      <td>35.000000</td>\n",
       "      <td>30.000000</td>\n",
       "    </tr>\n",
       "    <tr>\n",
       "      <th>total sulfur dioxide</th>\n",
       "      <td>163.000000</td>\n",
       "      <td>174.00000</td>\n",
       "      <td>144.000000</td>\n",
       "      <td>178.000000</td>\n",
       "      <td>110.000000</td>\n",
       "    </tr>\n",
       "    <tr>\n",
       "      <th>density</th>\n",
       "      <td>0.994800</td>\n",
       "      <td>0.99290</td>\n",
       "      <td>0.995800</td>\n",
       "      <td>0.999700</td>\n",
       "      <td>0.999800</td>\n",
       "    </tr>\n",
       "    <tr>\n",
       "      <th>pH</th>\n",
       "      <td>3.230000</td>\n",
       "      <td>3.19000</td>\n",
       "      <td>3.130000</td>\n",
       "      <td>2.990000</td>\n",
       "      <td>3.140000</td>\n",
       "    </tr>\n",
       "    <tr>\n",
       "      <th>sulphates</th>\n",
       "      <td>0.660000</td>\n",
       "      <td>0.78000</td>\n",
       "      <td>0.540000</td>\n",
       "      <td>0.390000</td>\n",
       "      <td>0.470000</td>\n",
       "    </tr>\n",
       "    <tr>\n",
       "      <th>alcohol</th>\n",
       "      <td>11.500000</td>\n",
       "      <td>9.60000</td>\n",
       "      <td>10.900000</td>\n",
       "      <td>9.800000</td>\n",
       "      <td>10.100000</td>\n",
       "    </tr>\n",
       "    <tr>\n",
       "      <th>quality</th>\n",
       "      <td>7.786968</td>\n",
       "      <td>7.19027</td>\n",
       "      <td>7.746242</td>\n",
       "      <td>7.342469</td>\n",
       "      <td>7.510645</td>\n",
       "    </tr>\n",
       "  </tbody>\n",
       "</table>\n",
       "</div>"
      ],
      "text/plain": [
       "                               0          1           2           3  \\\n",
       "fixed acidity           7.100000    5.00000    5.100000    5.300000   \n",
       "volatile acidity        0.200000    0.28000    0.260000    0.170000   \n",
       "citric acid             0.330000    0.35000    0.310000    0.190000   \n",
       "residual sugar          7.100000    1.30000   14.600000    1.500000   \n",
       "chlorides               0.043000    0.05800    0.120000    0.042000   \n",
       "free sulfur dioxide    22.000000   40.00000   68.000000   35.000000   \n",
       "total sulfur dioxide  163.000000  174.00000  144.000000  178.000000   \n",
       "density                 0.994800    0.99290    0.995800    0.999700   \n",
       "pH                      3.230000    3.19000    3.130000    2.990000   \n",
       "sulphates               0.660000    0.78000    0.540000    0.390000   \n",
       "alcohol                11.500000    9.60000   10.900000    9.800000   \n",
       "quality                 7.786968    7.19027    7.746242    7.342469   \n",
       "\n",
       "                               4  \n",
       "fixed acidity           6.800000  \n",
       "volatile acidity        0.270000  \n",
       "citric acid             0.260000  \n",
       "residual sugar          2.100000  \n",
       "chlorides               0.046000  \n",
       "free sulfur dioxide    30.000000  \n",
       "total sulfur dioxide  110.000000  \n",
       "density                 0.999800  \n",
       "pH                      3.140000  \n",
       "sulphates               0.470000  \n",
       "alcohol                10.100000  \n",
       "quality                 7.510645  "
      ]
     },
     "execution_count": 3,
     "metadata": {},
     "output_type": "execute_result"
    }
   ],
   "source": [
    "data = pd.read_csv('hw_data.csv')\n",
    "data.head().T"
   ]
  },
  {
   "cell_type": "markdown",
   "metadata": {},
   "source": [
    "Как видите, у нас есть разнообразные параметры вина, такие как уровень pH, уровень алкоголя. Последним параметром идет качество — усредненная оценка вина от нескольких дегустаторов. В отличие от оригинального датасета, качество у нас может быть дробным. Задача — построить модель машинного обучения, которая сможет заменить дегустаторов. "
   ]
  },
  {
   "cell_type": "markdown",
   "metadata": {},
   "source": [
    " ##### Предобработка данных\n",
    " Сначала выделим целевую функцию из нашего набора данных и удалим ее из самих данных.\n",
    " "
   ]
  },
  {
   "cell_type": "code",
   "execution_count": 4,
   "metadata": {
    "scrolled": true
   },
   "outputs": [],
   "source": [
    "labels = data['quality']\n",
    "del(data['quality'])"
   ]
  },
  {
   "cell_type": "code",
   "execution_count": 27,
   "metadata": {},
   "outputs": [
    {
     "data": {
      "text/html": [
       "<div>\n",
       "<style scoped>\n",
       "    .dataframe tbody tr th:only-of-type {\n",
       "        vertical-align: middle;\n",
       "    }\n",
       "\n",
       "    .dataframe tbody tr th {\n",
       "        vertical-align: top;\n",
       "    }\n",
       "\n",
       "    .dataframe thead th {\n",
       "        text-align: right;\n",
       "    }\n",
       "</style>\n",
       "<table border=\"1\" class=\"dataframe\">\n",
       "  <thead>\n",
       "    <tr style=\"text-align: right;\">\n",
       "      <th></th>\n",
       "      <th>fixed acidity</th>\n",
       "      <th>volatile acidity</th>\n",
       "      <th>citric acid</th>\n",
       "      <th>residual sugar</th>\n",
       "      <th>chlorides</th>\n",
       "      <th>free sulfur dioxide</th>\n",
       "      <th>total sulfur dioxide</th>\n",
       "      <th>density</th>\n",
       "      <th>pH</th>\n",
       "      <th>sulphates</th>\n",
       "      <th>alcohol</th>\n",
       "    </tr>\n",
       "  </thead>\n",
       "  <tbody>\n",
       "    <tr>\n",
       "      <th>0</th>\n",
       "      <td>7.1</td>\n",
       "      <td>0.20</td>\n",
       "      <td>0.33</td>\n",
       "      <td>7.1</td>\n",
       "      <td>0.043</td>\n",
       "      <td>22.0</td>\n",
       "      <td>163.0</td>\n",
       "      <td>0.9948</td>\n",
       "      <td>3.23</td>\n",
       "      <td>0.66</td>\n",
       "      <td>11.5</td>\n",
       "    </tr>\n",
       "    <tr>\n",
       "      <th>1</th>\n",
       "      <td>5.0</td>\n",
       "      <td>0.28</td>\n",
       "      <td>0.35</td>\n",
       "      <td>1.3</td>\n",
       "      <td>0.058</td>\n",
       "      <td>40.0</td>\n",
       "      <td>174.0</td>\n",
       "      <td>0.9929</td>\n",
       "      <td>3.19</td>\n",
       "      <td>0.78</td>\n",
       "      <td>9.6</td>\n",
       "    </tr>\n",
       "    <tr>\n",
       "      <th>2</th>\n",
       "      <td>5.1</td>\n",
       "      <td>0.26</td>\n",
       "      <td>0.31</td>\n",
       "      <td>14.6</td>\n",
       "      <td>0.120</td>\n",
       "      <td>68.0</td>\n",
       "      <td>144.0</td>\n",
       "      <td>0.9958</td>\n",
       "      <td>3.13</td>\n",
       "      <td>0.54</td>\n",
       "      <td>10.9</td>\n",
       "    </tr>\n",
       "    <tr>\n",
       "      <th>3</th>\n",
       "      <td>5.3</td>\n",
       "      <td>0.17</td>\n",
       "      <td>0.19</td>\n",
       "      <td>1.5</td>\n",
       "      <td>0.042</td>\n",
       "      <td>35.0</td>\n",
       "      <td>178.0</td>\n",
       "      <td>0.9997</td>\n",
       "      <td>2.99</td>\n",
       "      <td>0.39</td>\n",
       "      <td>9.8</td>\n",
       "    </tr>\n",
       "    <tr>\n",
       "      <th>4</th>\n",
       "      <td>6.8</td>\n",
       "      <td>0.27</td>\n",
       "      <td>0.26</td>\n",
       "      <td>2.1</td>\n",
       "      <td>0.046</td>\n",
       "      <td>30.0</td>\n",
       "      <td>110.0</td>\n",
       "      <td>0.9998</td>\n",
       "      <td>3.14</td>\n",
       "      <td>0.47</td>\n",
       "      <td>10.1</td>\n",
       "    </tr>\n",
       "  </tbody>\n",
       "</table>\n",
       "</div>"
      ],
      "text/plain": [
       "   fixed acidity  volatile acidity  citric acid  residual sugar  chlorides  \\\n",
       "0            7.1              0.20         0.33             7.1      0.043   \n",
       "1            5.0              0.28         0.35             1.3      0.058   \n",
       "2            5.1              0.26         0.31            14.6      0.120   \n",
       "3            5.3              0.17         0.19             1.5      0.042   \n",
       "4            6.8              0.27         0.26             2.1      0.046   \n",
       "\n",
       "   free sulfur dioxide  total sulfur dioxide  density    pH  sulphates  \\\n",
       "0                 22.0                 163.0   0.9948  3.23       0.66   \n",
       "1                 40.0                 174.0   0.9929  3.19       0.78   \n",
       "2                 68.0                 144.0   0.9958  3.13       0.54   \n",
       "3                 35.0                 178.0   0.9997  2.99       0.39   \n",
       "4                 30.0                 110.0   0.9998  3.14       0.47   \n",
       "\n",
       "   alcohol  \n",
       "0     11.5  \n",
       "1      9.6  \n",
       "2     10.9  \n",
       "3      9.8  \n",
       "4     10.1  "
      ]
     },
     "execution_count": 27,
     "metadata": {},
     "output_type": "execute_result"
    }
   ],
   "source": [
    "data.head()"
   ]
  },
  {
   "cell_type": "code",
   "execution_count": 28,
   "metadata": {},
   "outputs": [
    {
     "data": {
      "text/plain": [
       "0    7.786968\n",
       "1    7.190270\n",
       "2    7.746242\n",
       "3    7.342469\n",
       "4    7.510645\n",
       "Name: quality, dtype: float64"
      ]
     },
     "execution_count": 28,
     "metadata": {},
     "output_type": "execute_result"
    }
   ],
   "source": [
    "labels.head()"
   ]
  },
  {
   "cell_type": "markdown",
   "metadata": {},
   "source": [
    "Раделим нашу выборку на тренировочную и тестовую. \n",
    "\n",
    "##### Задание: импортируйте нужную функцию из библиотеки Sklearn и вызовите ее \n",
    "Пример можно посмотреть в видео №9."
   ]
  },
  {
   "cell_type": "code",
   "execution_count": 7,
   "metadata": {
    "scrolled": true
   },
   "outputs": [],
   "source": [
    "from sklearn.model_selection import train_test_split\n",
    "\n",
    "data_train, data_test, labels_train, labels_test = train_test_split(data,labels)"
   ]
  },
  {
   "cell_type": "markdown",
   "metadata": {},
   "source": [
    "##### Построим модель линейной регрессии\n",
    "1) Импортируем модель из библиотеки Sklearn:"
   ]
  },
  {
   "cell_type": "code",
   "execution_count": 8,
   "metadata": {
    "scrolled": true
   },
   "outputs": [],
   "source": [
    "from sklearn.linear_model import LinearRegression"
   ]
  },
  {
   "cell_type": "markdown",
   "metadata": {},
   "source": [
    "2) Обучим модель на тестовых данных:"
   ]
  },
  {
   "cell_type": "code",
   "execution_count": 9,
   "metadata": {
    "scrolled": true
   },
   "outputs": [
    {
     "data": {
      "text/plain": [
       "LinearRegression(copy_X=True, fit_intercept=True, n_jobs=None,\n",
       "         normalize=False)"
      ]
     },
     "execution_count": 9,
     "metadata": {},
     "output_type": "execute_result"
    }
   ],
   "source": [
    "model = LinearRegression()\n",
    "model.fit(data_train, labels_train)"
   ]
  },
  {
   "cell_type": "markdown",
   "metadata": {},
   "source": [
    "3) Выполним предсказание на тестовых данных:"
   ]
  },
  {
   "cell_type": "code",
   "execution_count": 10,
   "metadata": {
    "scrolled": true
   },
   "outputs": [],
   "source": [
    "prediction = model.predict(data_test)"
   ]
  },
  {
   "cell_type": "markdown",
   "metadata": {},
   "source": [
    "4) Посчитаем метрику «средний квадрат ошибки». Для этого воспользуемся стандартной функцией из библиотеки Sklearn:"
   ]
  },
  {
   "cell_type": "code",
   "execution_count": 11,
   "metadata": {
    "scrolled": true
   },
   "outputs": [
    {
     "data": {
      "text/plain": [
       "0.12512531708194566"
      ]
     },
     "execution_count": 11,
     "metadata": {},
     "output_type": "execute_result"
    }
   ],
   "source": [
    "from sklearn.metrics import mean_squared_error\n",
    "mean_squared_error(prediction, labels_test)"
   ]
  },
  {
   "cell_type": "markdown",
   "metadata": {},
   "source": [
    "### Задание: обучить «хорошую» модель\n",
    "Замените линейную регрессию на другие регрессионные модели, упоминавшиеся в занятии. Попробуйте такие модели, как дерево принятия решений (DecisionTree) и случайные леса (RandomForest). Для дерева принятия решений попробуйте разные параметры глубины дерева (max_depth), для случайного леса — разную глубину дерева (max_dept) и количество деревьев (n_estimators).\n",
    "\n",
    "Для получения зачета необходимо обучить модель, которая покажет результат среднего квадрата ошибки отклонения менее, чем 0.06. Примеры обучения этих моделей ищите в видео №10."
   ]
  },
  {
   "cell_type": "code",
   "execution_count": 46,
   "metadata": {},
   "outputs": [],
   "source": [
    "from sklearn.ensemble import RandomForestRegressor"
   ]
  },
  {
   "cell_type": "code",
   "execution_count": 47,
   "metadata": {},
   "outputs": [
    {
     "name": "stderr",
     "output_type": "stream",
     "text": [
      "C:\\ProgramData\\Anaconda3\\lib\\site-packages\\sklearn\\ensemble\\forest.py:246: FutureWarning: The default value of n_estimators will change from 10 in version 0.20 to 100 in 0.22.\n",
      "  \"10 in version 0.20 to 100 in 0.22.\", FutureWarning)\n"
     ]
    }
   ],
   "source": [
    "model = RandomForestRegressor()\n",
    "model.fit(data_train, labels_train)\n",
    "prediction = model.predict(data_test)"
   ]
  },
  {
   "cell_type": "code",
   "execution_count": 48,
   "metadata": {},
   "outputs": [
    {
     "data": {
      "text/plain": [
       "0.035591267895930555"
      ]
     },
     "execution_count": 48,
     "metadata": {},
     "output_type": "execute_result"
    }
   ],
   "source": [
    "mean_squared_error(prediction, labels_test)"
   ]
  },
  {
   "cell_type": "code",
   "execution_count": 49,
   "metadata": {},
   "outputs": [
    {
     "data": {
      "text/plain": [
       "(18750,)"
      ]
     },
     "execution_count": 49,
     "metadata": {},
     "output_type": "execute_result"
    }
   ],
   "source": [
    "prediction.shape"
   ]
  },
  {
   "cell_type": "markdown",
   "metadata": {},
   "source": [
    "# Выполним предсказание для «контрольной» выборки\n",
    "Загрузим «контрольный» датасет и выполним предсказание:"
   ]
  },
  {
   "cell_type": "code",
   "execution_count": 50,
   "metadata": {},
   "outputs": [],
   "source": [
    "data_control = pd.read_csv('data_to_estimate.csv')\n",
    "prediction = model.predict(data_control)"
   ]
  },
  {
   "cell_type": "code",
   "execution_count": 51,
   "metadata": {},
   "outputs": [
    {
     "data": {
      "text/html": [
       "<div>\n",
       "<style scoped>\n",
       "    .dataframe tbody tr th:only-of-type {\n",
       "        vertical-align: middle;\n",
       "    }\n",
       "\n",
       "    .dataframe tbody tr th {\n",
       "        vertical-align: top;\n",
       "    }\n",
       "\n",
       "    .dataframe thead th {\n",
       "        text-align: right;\n",
       "    }\n",
       "</style>\n",
       "<table border=\"1\" class=\"dataframe\">\n",
       "  <thead>\n",
       "    <tr style=\"text-align: right;\">\n",
       "      <th></th>\n",
       "      <th>fixed acidity</th>\n",
       "      <th>volatile acidity</th>\n",
       "      <th>citric acid</th>\n",
       "      <th>residual sugar</th>\n",
       "      <th>chlorides</th>\n",
       "      <th>free sulfur dioxide</th>\n",
       "      <th>total sulfur dioxide</th>\n",
       "      <th>density</th>\n",
       "      <th>pH</th>\n",
       "      <th>sulphates</th>\n",
       "      <th>alcohol</th>\n",
       "    </tr>\n",
       "  </thead>\n",
       "  <tbody>\n",
       "    <tr>\n",
       "      <th>0</th>\n",
       "      <td>9.3</td>\n",
       "      <td>0.26</td>\n",
       "      <td>0.30</td>\n",
       "      <td>6.7</td>\n",
       "      <td>0.060</td>\n",
       "      <td>23.0</td>\n",
       "      <td>241.0</td>\n",
       "      <td>0.99058</td>\n",
       "      <td>3.26</td>\n",
       "      <td>0.34</td>\n",
       "      <td>13.4</td>\n",
       "    </tr>\n",
       "    <tr>\n",
       "      <th>1</th>\n",
       "      <td>6.8</td>\n",
       "      <td>0.24</td>\n",
       "      <td>0.27</td>\n",
       "      <td>10.4</td>\n",
       "      <td>0.043</td>\n",
       "      <td>72.0</td>\n",
       "      <td>123.0</td>\n",
       "      <td>0.98931</td>\n",
       "      <td>3.53</td>\n",
       "      <td>0.34</td>\n",
       "      <td>10.5</td>\n",
       "    </tr>\n",
       "    <tr>\n",
       "      <th>2</th>\n",
       "      <td>5.8</td>\n",
       "      <td>0.34</td>\n",
       "      <td>0.29</td>\n",
       "      <td>5.0</td>\n",
       "      <td>0.036</td>\n",
       "      <td>52.0</td>\n",
       "      <td>95.0</td>\n",
       "      <td>0.99110</td>\n",
       "      <td>3.06</td>\n",
       "      <td>0.55</td>\n",
       "      <td>9.5</td>\n",
       "    </tr>\n",
       "    <tr>\n",
       "      <th>3</th>\n",
       "      <td>7.0</td>\n",
       "      <td>0.18</td>\n",
       "      <td>0.36</td>\n",
       "      <td>13.7</td>\n",
       "      <td>0.059</td>\n",
       "      <td>51.0</td>\n",
       "      <td>98.0</td>\n",
       "      <td>0.99030</td>\n",
       "      <td>3.03</td>\n",
       "      <td>0.44</td>\n",
       "      <td>11.3</td>\n",
       "    </tr>\n",
       "    <tr>\n",
       "      <th>4</th>\n",
       "      <td>6.6</td>\n",
       "      <td>0.26</td>\n",
       "      <td>0.30</td>\n",
       "      <td>8.5</td>\n",
       "      <td>0.029</td>\n",
       "      <td>6.0</td>\n",
       "      <td>181.0</td>\n",
       "      <td>0.99820</td>\n",
       "      <td>3.12</td>\n",
       "      <td>0.55</td>\n",
       "      <td>13.0</td>\n",
       "    </tr>\n",
       "  </tbody>\n",
       "</table>\n",
       "</div>"
      ],
      "text/plain": [
       "   fixed acidity  volatile acidity  citric acid  residual sugar  chlorides  \\\n",
       "0            9.3              0.26         0.30             6.7      0.060   \n",
       "1            6.8              0.24         0.27            10.4      0.043   \n",
       "2            5.8              0.34         0.29             5.0      0.036   \n",
       "3            7.0              0.18         0.36            13.7      0.059   \n",
       "4            6.6              0.26         0.30             8.5      0.029   \n",
       "\n",
       "   free sulfur dioxide  total sulfur dioxide  density    pH  sulphates  \\\n",
       "0                 23.0                 241.0  0.99058  3.26       0.34   \n",
       "1                 72.0                 123.0  0.98931  3.53       0.34   \n",
       "2                 52.0                  95.0  0.99110  3.06       0.55   \n",
       "3                 51.0                  98.0  0.99030  3.03       0.44   \n",
       "4                  6.0                 181.0  0.99820  3.12       0.55   \n",
       "\n",
       "   alcohol  \n",
       "0     13.4  \n",
       "1     10.5  \n",
       "2      9.5  \n",
       "3     11.3  \n",
       "4     13.0  "
      ]
     },
     "execution_count": 51,
     "metadata": {},
     "output_type": "execute_result"
    }
   ],
   "source": [
    "data_control.head()"
   ]
  },
  {
   "cell_type": "code",
   "execution_count": 52,
   "metadata": {},
   "outputs": [
    {
     "data": {
      "text/plain": [
       "(999, 11)"
      ]
     },
     "execution_count": 52,
     "metadata": {},
     "output_type": "execute_result"
    }
   ],
   "source": [
    "data_control.shape"
   ]
  },
  {
   "cell_type": "code",
   "execution_count": 53,
   "metadata": {},
   "outputs": [
    {
     "data": {
      "text/plain": [
       "(999,)"
      ]
     },
     "execution_count": 53,
     "metadata": {},
     "output_type": "execute_result"
    }
   ],
   "source": [
    "prediction.shape"
   ]
  },
  {
   "cell_type": "code",
   "execution_count": null,
   "metadata": {},
   "outputs": [],
   "source": []
  },
  {
   "cell_type": "markdown",
   "metadata": {},
   "source": [
    "Распечатаем разультат:\n",
    "### Строчку с распечатанными предсказаниями скопируйте в EdX\n",
    "##### Результат будет засчитан, если метрика mean_squared_error по контрольным данным оказалась меньше 0.06"
   ]
  },
  {
   "cell_type": "code",
   "execution_count": 54,
   "metadata": {},
   "outputs": [
    {
     "name": "stdout",
     "output_type": "stream",
     "text": [
      "7.595,8.045,7.506,7.846,7.407,7.311,7.490,6.418,7.831,7.495,6.835,7.095,8.753,6.156,7.891,6.968,6.851,7.310,7.308,7.346,9.061,8.165,7.328,7.493,7.663,7.378,7.366,6.749,6.342,8.466,7.850,8.289,7.809,6.854,7.263,8.125,7.097,8.084,7.305,7.619,6.337,7.303,7.263,7.057,6.841,8.242,7.857,7.421,8.351,8.464,7.840,6.930,7.241,7.663,6.625,7.511,6.883,6.898,6.406,6.783,7.690,7.179,7.190,6.974,7.360,6.473,7.972,7.312,7.074,8.103,7.588,6.796,7.210,8.743,6.980,7.874,7.302,7.640,7.570,7.097,7.661,7.863,6.056,8.334,6.403,8.353,8.033,7.525,6.608,7.092,7.321,6.338,7.868,8.212,8.196,6.951,8.286,7.471,8.456,8.678,6.760,7.100,7.143,7.485,7.315,6.962,7.672,8.953,7.624,7.082,7.272,7.958,8.273,7.918,7.424,8.333,7.214,7.457,7.692,8.273,7.400,7.118,7.013,7.326,7.295,7.808,7.619,7.508,7.749,6.679,7.283,7.896,8.120,7.874,7.787,7.577,7.212,9.025,7.992,8.325,8.716,7.460,7.132,7.111,8.391,7.823,6.144,7.750,6.679,7.844,8.813,7.581,7.173,7.753,7.870,7.585,7.212,7.234,8.118,7.972,7.350,6.678,8.957,7.997,7.347,7.428,7.517,7.181,8.418,8.011,8.643,7.257,8.023,8.352,8.608,7.019,7.023,7.251,7.582,6.804,7.357,7.276,7.330,6.718,7.186,8.540,8.044,9.076,7.835,8.684,7.897,7.124,6.647,7.178,7.417,7.196,7.066,7.491,6.986,7.604,7.626,7.568,8.774,7.808,7.070,7.559,8.628,8.926,8.739,7.519,7.049,7.063,8.017,7.668,7.103,6.826,7.404,7.541,7.908,7.266,7.395,7.742,8.321,8.029,7.570,7.547,8.328,7.799,7.327,7.208,8.381,7.286,8.023,7.007,6.940,6.294,7.266,7.624,8.429,7.670,6.971,7.439,6.933,6.505,6.577,7.408,7.166,7.612,6.204,6.866,8.464,7.023,7.135,8.885,7.909,7.863,7.282,6.920,8.201,7.681,7.545,7.619,7.269,7.824,6.850,7.467,7.204,8.841,6.835,6.954,7.040,7.264,7.308,7.114,7.344,7.432,6.584,7.667,7.367,7.495,8.513,7.274,7.436,7.758,6.215,7.016,7.807,6.785,8.252,7.538,7.843,7.911,7.722,7.697,7.782,7.037,7.583,7.677,6.684,7.234,8.518,8.073,7.285,7.713,7.720,7.450,9.149,8.713,6.355,8.365,7.387,8.827,7.026,7.224,8.651,7.614,7.429,7.821,6.355,6.842,7.931,7.344,8.776,7.483,7.971,6.044,6.809,8.457,6.254,7.714,7.033,8.369,6.931,7.539,7.453,7.239,7.529,7.098,7.292,7.147,8.256,7.836,7.291,7.161,6.968,7.278,7.497,8.310,7.538,8.026,8.729,7.709,7.758,8.012,7.168,7.211,7.231,7.331,7.565,7.538,7.016,7.633,7.755,7.536,7.183,7.771,7.068,6.892,6.720,7.539,8.165,7.498,8.144,7.697,8.074,8.697,7.606,8.446,8.622,8.747,7.134,7.002,6.666,7.613,7.678,7.595,7.427,6.827,7.861,7.702,5.908,6.812,7.837,7.142,7.220,8.325,7.291,7.250,7.792,7.657,8.531,7.082,8.265,7.649,6.729,6.430,7.401,7.721,7.460,7.098,8.051,7.078,7.576,7.879,7.900,7.477,7.012,6.982,8.749,8.540,7.210,7.770,8.194,7.295,6.415,7.403,6.691,6.954,6.967,7.290,7.728,6.842,7.866,7.631,7.063,7.238,7.779,7.993,7.571,7.121,8.101,7.794,6.516,9.066,6.892,7.882,7.901,8.910,7.372,6.291,7.617,6.928,8.344,7.979,8.190,7.605,7.344,7.802,8.292,8.499,7.896,6.562,7.773,7.348,7.455,7.012,7.075,7.357,8.285,7.268,7.419,7.298,6.953,7.566,7.444,6.885,7.838,6.368,7.812,7.395,6.593,8.353,7.386,6.006,8.267,6.252,7.675,7.614,7.807,8.006,7.344,7.361,7.189,6.740,7.174,7.062,6.551,7.047,7.395,7.049,7.273,8.205,9.043,6.142,7.610,7.666,6.882,7.239,7.427,7.418,6.769,7.353,6.678,7.713,7.471,8.073,7.399,7.610,7.558,7.268,6.777,8.387,7.317,7.326,6.123,7.209,7.583,7.762,6.617,7.207,7.140,8.057,7.239,8.605,6.904,7.678,6.424,6.439,7.569,7.511,6.676,8.040,7.373,7.392,7.218,8.347,7.975,7.829,7.057,7.493,7.573,7.317,6.806,7.282,8.095,7.417,8.418,7.590,7.980,7.873,6.745,7.542,7.451,8.058,6.956,7.709,6.216,7.114,7.439,7.923,7.549,7.664,7.169,8.455,7.053,7.914,7.647,8.311,8.113,7.157,7.389,7.022,7.082,6.371,7.332,7.531,8.131,6.919,8.098,7.786,8.184,7.776,7.394,8.273,7.541,7.116,6.968,7.082,8.522,7.678,6.874,7.367,7.734,6.283,8.251,8.649,7.572,8.765,8.952,8.275,7.651,8.038,7.586,7.712,6.943,7.412,6.833,7.185,8.171,7.428,7.740,6.685,7.453,7.187,7.452,7.543,7.741,7.358,6.938,8.172,7.233,7.520,7.222,6.680,6.184,6.624,7.570,7.606,8.384,7.275,8.480,7.038,6.627,8.523,7.266,7.246,7.832,6.843,6.889,7.658,6.830,8.274,6.504,7.120,7.388,7.078,8.489,6.775,7.404,7.706,7.193,7.739,7.212,7.232,7.406,6.838,7.057,7.158,6.393,7.318,7.118,8.596,7.494,8.759,8.494,9.062,7.139,7.414,8.717,6.533,7.255,7.144,7.554,8.596,7.273,8.440,7.577,7.349,7.080,7.093,6.662,8.819,7.966,6.852,6.870,6.719,7.680,7.495,7.186,7.692,7.449,6.350,7.862,8.904,6.503,6.764,6.645,7.515,6.994,6.886,8.350,6.867,7.377,7.119,7.805,7.021,7.669,7.139,5.412,7.535,7.733,7.037,7.037,7.742,7.584,7.375,7.244,8.505,6.398,8.771,7.979,7.638,7.208,7.083,8.092,8.748,7.035,7.478,8.459,7.430,7.795,7.326,6.225,7.269,7.924,7.098,7.582,8.582,8.213,6.957,8.241,8.294,8.179,7.826,6.560,8.578,6.161,8.301,7.405,6.743,7.078,7.073,7.246,7.615,7.497,8.068,7.801,8.137,7.910,7.480,7.418,7.678,7.526,7.262,7.310,6.159,8.487,7.854,7.014,8.380,7.218,6.628,7.339,6.370,8.020,7.755,7.581,7.757,7.391,7.670,8.732,8.602,7.200,7.377,7.452,7.577,7.579,6.640,7.032,7.600,7.036,7.114,7.290,7.580,7.476,8.507,7.159,7.642,7.595,7.698,7.818,7.368,7.395,7.305,6.751,7.730,8.618,7.715,7.509,8.102,7.481,8.045,8.050,7.421,6.978,6.702,7.386,7.492,7.752,8.443,7.621,7.772,7.364,6.936,6.598,6.457,7.229,7.004,7.874,7.687,8.215,7.422,8.450,7.229,8.070,6.956,6.783,7.292,8.632,7.899,7.784,6.976,7.383,7.646,7.360,6.895,6.471,6.921,7.598,7.116,7.482,7.797,7.634,7.781,6.804,7.534,7.693,8.734,7.266,6.821,7.909,7.084,7.672,7.689,7.621,6.254,7.864,7.117,8.250,8.028,7.457,7.309,8.369,8.618,8.575,7.631,8.475,8.040,7.251,8.567,7.850,7.042,6.439,6.983,7.720,7.491,7.464,8.043,7.358,7.535,6.803,6.795,7.679,7.469,7.466,6.442,7.397,8.467,6.259,6.417,7.427,8.141,7.222,8.408,7.240,7.075,8.065,7.034,8.305,7.939,7.700,6.949,7.180,8.296,6.900,7.432,7.428,7.778,6.698,8.276,8.888,8.344,7.175,6.344,8.044,8.102,7.744,8.203,7.737,7.707,7.641,7.042,7.233,6.457,6.885,9.150,7.848,7.636,7.311,7.003,7.328,7.915,7.077,6.489,7.139,8.183,7.652,8.974,7.881,6.398,6.878,7.043,6.815,7.731,7.289,7.288,7.249,7.304,8.552,8.641,8.721,7.274,8.870,6.958,7.228,7.064,7.615,8.006,6.647,6.964,7.295,7.091,7.453,8.355,6.738,7.349,6.513,7.055,7.710,7.133,7.666,8.020,8.672,7.761,8.763,8.392,6.785,8.717,6.954\n"
     ]
    }
   ],
   "source": [
    "print(\",\".join([\"{:.3f}\".format(num) for num in prediction]))"
   ]
  },
  {
   "cell_type": "code",
   "execution_count": null,
   "metadata": {},
   "outputs": [],
   "source": []
  }
 ],
 "metadata": {
  "kernelspec": {
   "display_name": "Python 3",
   "language": "python",
   "name": "python3"
  },
  "language_info": {
   "codemirror_mode": {
    "name": "ipython",
    "version": 3
   },
   "file_extension": ".py",
   "mimetype": "text/x-python",
   "name": "python",
   "nbconvert_exporter": "python",
   "pygments_lexer": "ipython3",
   "version": "3.7.3"
  }
 },
 "nbformat": 4,
 "nbformat_minor": 2
}

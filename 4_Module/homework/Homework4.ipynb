{
 "cells": [
  {
   "cell_type": "markdown",
   "metadata": {},
   "source": [
    "## Домашнее задание №4. Классификатор отзывов к фильмам\n",
    "В рамках домашнего задания разработаем систему классификации отзывов к фильмам на положительные и отрицательные. Такая система может быть полезна, например, компаниям, которые анализируют отзывы в социальных сетях, и решают, стоит ли снимать продолжение к фильму.\n",
    "\n",
    "Это задача на работу с естественным языком. Несмотря на то, что применяемые техники довольно простые, они позволят проиллюстрировать как задачу классификации, так и несколько основных идей из области анализа текстов. \n",
    "\n",
    "### Feature engineering\n",
    "Как мы уже успели рассмотреть на занятиях, методы машинного обучения обычно работают с признаковым представлением объекта, задачу выделения признаков неформально называют feature engineering. Выделить признаки, на которых можно обучать модели, не всегда легко, выделение хороших признаков зачастую оказывается более сложной задачей, чем построение модели машинного обучения.\n",
    "\n",
    "В рамках домашнего задания рассмотрим, как можно выделить признаки из текстовой информации, чтобы построить классификатор текстов. Более подробно тему feature engineering рассмотрим в следующем модуле. "
   ]
  },
  {
   "cell_type": "markdown",
   "metadata": {},
   "source": [
    "### Модель «Мешок Слов»"
   ]
  },
  {
   "cell_type": "markdown",
   "metadata": {},
   "source": [
    "Одной из простейших идей при работе с текстами является модель «мешка слов» (bag of the words, bow). Идея заключается в том, что порядок слов для тематики не важен, а важны только сами слова. \n",
    "\n",
    "Частота встречающихся слов в этом подходе будет тем самым признаком, который мы можем использовать для обучения классификатора. Это не совсем точно, ведь фразы «мне не понравился фильм» и »не мне понравился фильм» отличаются только порядком слов, но имеют разный смысл. Тем не менее, как показывает практика, такого подхода достаточно, чтобы определить тональность или тематику текста.\n"
   ]
  },
  {
   "cell_type": "markdown",
   "metadata": {},
   "source": [
    "Определим функцию преобразования текста в «мешок слов», слово будем определять как последовательность русских букв. Будем искать их при помощи регулярных выражений (про регулярные выражения можно почитать тут: https://habr.com/post/349860/). Весь текст будем приводить к нижнему регистру, чтобы слова, написанные в разных регистрах, не отличались друг от друга. "
   ]
  },
  {
   "cell_type": "code",
   "execution_count": 1,
   "metadata": {},
   "outputs": [
    {
     "name": "stdout",
     "output_type": "stream",
     "text": [
      "{'мне': 1, 'не': 1, 'понравился': 2, 'фильм': 2, 'а': 1, 'ему': 1}\n"
     ]
    }
   ],
   "source": [
    "import re\n",
    "\n",
    "def text2bow(text):\n",
    "    result = dict()\n",
    "    word_regexp = re.compile(r'[а-я]+')\n",
    "    for word in word_regexp.findall(text.lower()):\n",
    "        if word not in result:\n",
    "            result[word] = 1\n",
    "        else:\n",
    "            result[word] = result[word] + 1\n",
    "    return result\n",
    "            \n",
    "print(text2bow('Мне не понравился фильм, а ему понравился фильм'))"
   ]
  },
  {
   "cell_type": "markdown",
   "metadata": {},
   "source": [
    "Мы возвращаем словарь с частотами слов. Для того, чтобы работать с моделями машинного обучения, нам нужно «табличное» представление даннных. Это можно сделать при помощи pandas, так как в нем уже реализовано преобразование словарей в DataFrame:"
   ]
  },
  {
   "cell_type": "code",
   "execution_count": 3,
   "metadata": {},
   "outputs": [
    {
     "data": {
      "text/html": [
       "<div>\n",
       "<style scoped>\n",
       "    .dataframe tbody tr th:only-of-type {\n",
       "        vertical-align: middle;\n",
       "    }\n",
       "\n",
       "    .dataframe tbody tr th {\n",
       "        vertical-align: top;\n",
       "    }\n",
       "\n",
       "    .dataframe thead th {\n",
       "        text-align: right;\n",
       "    }\n",
       "</style>\n",
       "<table border=\"1\" class=\"dataframe\">\n",
       "  <thead>\n",
       "    <tr style=\"text-align: right;\">\n",
       "      <th></th>\n",
       "      <th>а</th>\n",
       "      <th>был</th>\n",
       "      <th>ему</th>\n",
       "      <th>каково</th>\n",
       "      <th>мне</th>\n",
       "      <th>не</th>\n",
       "      <th>очень</th>\n",
       "      <th>понравился</th>\n",
       "      <th>фильм</th>\n",
       "      <th>хороший</th>\n",
       "      <th>черта</th>\n",
       "    </tr>\n",
       "  </thead>\n",
       "  <tbody>\n",
       "    <tr>\n",
       "      <th>0</th>\n",
       "      <td>1.0</td>\n",
       "      <td>NaN</td>\n",
       "      <td>1.0</td>\n",
       "      <td>1.0</td>\n",
       "      <td>1</td>\n",
       "      <td>1.0</td>\n",
       "      <td>NaN</td>\n",
       "      <td>2</td>\n",
       "      <td>2</td>\n",
       "      <td>NaN</td>\n",
       "      <td>1.0</td>\n",
       "    </tr>\n",
       "    <tr>\n",
       "      <th>1</th>\n",
       "      <td>NaN</td>\n",
       "      <td>1.0</td>\n",
       "      <td>NaN</td>\n",
       "      <td>NaN</td>\n",
       "      <td>1</td>\n",
       "      <td>NaN</td>\n",
       "      <td>1.0</td>\n",
       "      <td>1</td>\n",
       "      <td>1</td>\n",
       "      <td>1.0</td>\n",
       "      <td>NaN</td>\n",
       "    </tr>\n",
       "  </tbody>\n",
       "</table>\n",
       "</div>"
      ],
      "text/plain": [
       "     а  был  ему  каково  мне   не  очень  понравился  фильм  хороший  черта\n",
       "0  1.0  NaN  1.0     1.0    1  1.0    NaN           2      2      NaN    1.0\n",
       "1  NaN  1.0  NaN     NaN    1  NaN    1.0           1      1      1.0    NaN"
      ]
     },
     "execution_count": 3,
     "metadata": {},
     "output_type": "execute_result"
    }
   ],
   "source": [
    "import pandas as pd\n",
    "docs = [\n",
    "            text2bow('Мне не понравился фильм, а ему понравился фильм. Каково черта'), \n",
    "            text2bow('Фильм был очень хороший! Мне понравился'), \n",
    "       ]\n",
    "df = pd.DataFrame(docs)\n",
    "df"
   ]
  },
  {
   "cell_type": "markdown",
   "metadata": {},
   "source": [
    "Пустоты лучше заполнить нулями:"
   ]
  },
  {
   "cell_type": "code",
   "execution_count": 4,
   "metadata": {},
   "outputs": [
    {
     "data": {
      "text/html": [
       "<div>\n",
       "<style scoped>\n",
       "    .dataframe tbody tr th:only-of-type {\n",
       "        vertical-align: middle;\n",
       "    }\n",
       "\n",
       "    .dataframe tbody tr th {\n",
       "        vertical-align: top;\n",
       "    }\n",
       "\n",
       "    .dataframe thead th {\n",
       "        text-align: right;\n",
       "    }\n",
       "</style>\n",
       "<table border=\"1\" class=\"dataframe\">\n",
       "  <thead>\n",
       "    <tr style=\"text-align: right;\">\n",
       "      <th></th>\n",
       "      <th>а</th>\n",
       "      <th>был</th>\n",
       "      <th>ему</th>\n",
       "      <th>каково</th>\n",
       "      <th>мне</th>\n",
       "      <th>не</th>\n",
       "      <th>очень</th>\n",
       "      <th>понравился</th>\n",
       "      <th>фильм</th>\n",
       "      <th>хороший</th>\n",
       "      <th>черта</th>\n",
       "    </tr>\n",
       "  </thead>\n",
       "  <tbody>\n",
       "    <tr>\n",
       "      <th>0</th>\n",
       "      <td>1.0</td>\n",
       "      <td>0.0</td>\n",
       "      <td>1.0</td>\n",
       "      <td>1.0</td>\n",
       "      <td>1</td>\n",
       "      <td>1.0</td>\n",
       "      <td>0.0</td>\n",
       "      <td>2</td>\n",
       "      <td>2</td>\n",
       "      <td>0.0</td>\n",
       "      <td>1.0</td>\n",
       "    </tr>\n",
       "    <tr>\n",
       "      <th>1</th>\n",
       "      <td>0.0</td>\n",
       "      <td>1.0</td>\n",
       "      <td>0.0</td>\n",
       "      <td>0.0</td>\n",
       "      <td>1</td>\n",
       "      <td>0.0</td>\n",
       "      <td>1.0</td>\n",
       "      <td>1</td>\n",
       "      <td>1</td>\n",
       "      <td>1.0</td>\n",
       "      <td>0.0</td>\n",
       "    </tr>\n",
       "  </tbody>\n",
       "</table>\n",
       "</div>"
      ],
      "text/plain": [
       "     а  был  ему  каково  мне   не  очень  понравился  фильм  хороший  черта\n",
       "0  1.0  0.0  1.0     1.0    1  1.0    0.0           2      2      0.0    1.0\n",
       "1  0.0  1.0  0.0     0.0    1  0.0    1.0           1      1      1.0    0.0"
      ]
     },
     "execution_count": 4,
     "metadata": {},
     "output_type": "execute_result"
    }
   ],
   "source": [
    "df = df.fillna(0.0)\n",
    "df"
   ]
  },
  {
   "cell_type": "markdown",
   "metadata": {},
   "source": [
    "Мы преобразовали тексты в таблицу, теперь к ним можно применять модели машинного обучения. Давайте загрузим настоящие данные — отзывы к фильмам. Мы заранее привели их к модели «мешок слов».\n",
    "\n",
    "В выборке 30 000 примеров, мы отфильтровали 10 000 самых популярных слов на русском языке, чтобы данных не получилось слишком много. Колонка is_positive содержит целевую функцию (положительный отзыв или отрицательный).\n",
    "\n",
    "Внимание! Данных довольно много, их загрузка займет продолжительное время."
   ]
  },
  {
   "cell_type": "code",
   "execution_count": 15,
   "metadata": {},
   "outputs": [
    {
     "data": {
      "text/html": [
       "<div>\n",
       "<style scoped>\n",
       "    .dataframe tbody tr th:only-of-type {\n",
       "        vertical-align: middle;\n",
       "    }\n",
       "\n",
       "    .dataframe tbody tr th {\n",
       "        vertical-align: top;\n",
       "    }\n",
       "\n",
       "    .dataframe thead th {\n",
       "        text-align: right;\n",
       "    }\n",
       "</style>\n",
       "<table border=\"1\" class=\"dataframe\">\n",
       "  <thead>\n",
       "    <tr style=\"text-align: right;\">\n",
       "      <th></th>\n",
       "      <th>is_positive</th>\n",
       "      <th>а</th>\n",
       "      <th>абсолютная</th>\n",
       "      <th>абсолютно</th>\n",
       "      <th>абсолютное</th>\n",
       "      <th>абсолютной</th>\n",
       "      <th>абсурд</th>\n",
       "      <th>абсурда</th>\n",
       "      <th>аварии</th>\n",
       "      <th>австралии</th>\n",
       "      <th>...</th>\n",
       "      <th>ярко</th>\n",
       "      <th>яркого</th>\n",
       "      <th>яркое</th>\n",
       "      <th>яркой</th>\n",
       "      <th>яркую</th>\n",
       "      <th>ярости</th>\n",
       "      <th>ярость</th>\n",
       "      <th>ярче</th>\n",
       "      <th>ясно</th>\n",
       "      <th>ящик</th>\n",
       "    </tr>\n",
       "  </thead>\n",
       "  <tbody>\n",
       "    <tr>\n",
       "      <th>0</th>\n",
       "      <td>1</td>\n",
       "      <td>1</td>\n",
       "      <td>0</td>\n",
       "      <td>0</td>\n",
       "      <td>0</td>\n",
       "      <td>0</td>\n",
       "      <td>0</td>\n",
       "      <td>0</td>\n",
       "      <td>0</td>\n",
       "      <td>0</td>\n",
       "      <td>...</td>\n",
       "      <td>0</td>\n",
       "      <td>0</td>\n",
       "      <td>0</td>\n",
       "      <td>0</td>\n",
       "      <td>0</td>\n",
       "      <td>0</td>\n",
       "      <td>0</td>\n",
       "      <td>0</td>\n",
       "      <td>0</td>\n",
       "      <td>0</td>\n",
       "    </tr>\n",
       "    <tr>\n",
       "      <th>1</th>\n",
       "      <td>1</td>\n",
       "      <td>2</td>\n",
       "      <td>0</td>\n",
       "      <td>0</td>\n",
       "      <td>0</td>\n",
       "      <td>0</td>\n",
       "      <td>0</td>\n",
       "      <td>0</td>\n",
       "      <td>0</td>\n",
       "      <td>0</td>\n",
       "      <td>...</td>\n",
       "      <td>0</td>\n",
       "      <td>0</td>\n",
       "      <td>0</td>\n",
       "      <td>0</td>\n",
       "      <td>0</td>\n",
       "      <td>0</td>\n",
       "      <td>0</td>\n",
       "      <td>0</td>\n",
       "      <td>1</td>\n",
       "      <td>0</td>\n",
       "    </tr>\n",
       "    <tr>\n",
       "      <th>2</th>\n",
       "      <td>1</td>\n",
       "      <td>3</td>\n",
       "      <td>0</td>\n",
       "      <td>0</td>\n",
       "      <td>0</td>\n",
       "      <td>0</td>\n",
       "      <td>0</td>\n",
       "      <td>0</td>\n",
       "      <td>0</td>\n",
       "      <td>0</td>\n",
       "      <td>...</td>\n",
       "      <td>0</td>\n",
       "      <td>0</td>\n",
       "      <td>1</td>\n",
       "      <td>0</td>\n",
       "      <td>0</td>\n",
       "      <td>0</td>\n",
       "      <td>0</td>\n",
       "      <td>0</td>\n",
       "      <td>0</td>\n",
       "      <td>0</td>\n",
       "    </tr>\n",
       "    <tr>\n",
       "      <th>3</th>\n",
       "      <td>1</td>\n",
       "      <td>1</td>\n",
       "      <td>0</td>\n",
       "      <td>1</td>\n",
       "      <td>0</td>\n",
       "      <td>0</td>\n",
       "      <td>0</td>\n",
       "      <td>0</td>\n",
       "      <td>0</td>\n",
       "      <td>0</td>\n",
       "      <td>...</td>\n",
       "      <td>0</td>\n",
       "      <td>0</td>\n",
       "      <td>0</td>\n",
       "      <td>0</td>\n",
       "      <td>0</td>\n",
       "      <td>0</td>\n",
       "      <td>0</td>\n",
       "      <td>0</td>\n",
       "      <td>0</td>\n",
       "      <td>0</td>\n",
       "    </tr>\n",
       "    <tr>\n",
       "      <th>4</th>\n",
       "      <td>1</td>\n",
       "      <td>1</td>\n",
       "      <td>0</td>\n",
       "      <td>0</td>\n",
       "      <td>0</td>\n",
       "      <td>0</td>\n",
       "      <td>0</td>\n",
       "      <td>0</td>\n",
       "      <td>0</td>\n",
       "      <td>0</td>\n",
       "      <td>...</td>\n",
       "      <td>0</td>\n",
       "      <td>0</td>\n",
       "      <td>0</td>\n",
       "      <td>0</td>\n",
       "      <td>1</td>\n",
       "      <td>0</td>\n",
       "      <td>0</td>\n",
       "      <td>0</td>\n",
       "      <td>0</td>\n",
       "      <td>0</td>\n",
       "    </tr>\n",
       "  </tbody>\n",
       "</table>\n",
       "<p>5 rows × 10001 columns</p>\n",
       "</div>"
      ],
      "text/plain": [
       "   is_positive  а  абсолютная  абсолютно  абсолютное  абсолютной  абсурд  \\\n",
       "0            1  1           0          0           0           0       0   \n",
       "1            1  2           0          0           0           0       0   \n",
       "2            1  3           0          0           0           0       0   \n",
       "3            1  1           0          1           0           0       0   \n",
       "4            1  1           0          0           0           0       0   \n",
       "\n",
       "   абсурда  аварии  австралии  ...  ярко  яркого  яркое  яркой  яркую  ярости  \\\n",
       "0        0       0          0  ...     0       0      0      0      0       0   \n",
       "1        0       0          0  ...     0       0      0      0      0       0   \n",
       "2        0       0          0  ...     0       0      1      0      0       0   \n",
       "3        0       0          0  ...     0       0      0      0      0       0   \n",
       "4        0       0          0  ...     0       0      0      0      1       0   \n",
       "\n",
       "   ярость  ярче  ясно  ящик  \n",
       "0       0     0     0     0  \n",
       "1       0     0     1     0  \n",
       "2       0     0     0     0  \n",
       "3       0     0     0     0  \n",
       "4       0     0     0     0  \n",
       "\n",
       "[5 rows x 10001 columns]"
      ]
     },
     "execution_count": 15,
     "metadata": {},
     "output_type": "execute_result"
    }
   ],
   "source": [
    "data = pd.read_csv('train.csv', dtype='uint8')\n",
    "data.head()"
   ]
  },
  {
   "cell_type": "code",
   "execution_count": 16,
   "metadata": {},
   "outputs": [],
   "source": [
    "labels = data['is_positive']\n",
    "del(data['is_positive'])"
   ]
  },
  {
   "cell_type": "markdown",
   "metadata": {},
   "source": [
    "# Задание №1 \n",
    "\n",
    "Разделите выборку на тестовую и контрольную при помощи функции train_test split. Не забудьте импортировать функцию train_test_split из модуля sklearn.metrics. Пример можно посмотреть в предыдущем домашнем задании или в видео про разделение выборки на train и test."
   ]
  },
  {
   "cell_type": "code",
   "execution_count": 17,
   "metadata": {},
   "outputs": [],
   "source": [
    "#подставьте нужные вызовы вместо слов в угловых скобках\n",
    "from sklearn.model_selection import train_test_split\n",
    "\n",
    "train_data, test_data, train_labels, test_labels = train_test_split(data,labels)"
   ]
  },
  {
   "cell_type": "markdown",
   "metadata": {},
   "source": [
    "# Задание №2\n",
    "\n",
    "##### Обязательная часть\n",
    "Обучите модель классификации. Необходимо импортировать модель машинного обучения из библиотеки Sklear, обучить ее и проверить на тестовых данных. Вы можете попробовать разные модели. Мы рекомендуем следущие:\n",
    "\n",
    "- DecisionTreeClassifier из модуля sklearn.tree\n",
    "- RandomForestClassifier из модуля sklearn.ensemble\n",
    "\n",
    "Для получения зачета нужно получить значение метрики AUC не менее 0.7\n",
    "##### Необязательная часть 1\n",
    "Для получения зачета вам достаточно построить одну из моделей с параметрами по умолчанию, но, чтобы улучшить свой результат, вы можете задать параметры моделей. У модели RandomForestClassfier для улучшения качества можно задавать, например, такие параметры: \n",
    "- Количество деревьев(n_estimators)\n",
    "- Максимальную высоту дерева(max_depth)\n",
    "\n",
    "Полный список критериев можно посмотреть в оффициальной документации:\n",
    "http://scikit-learn.org/stable/modules/generated/sklearn.ensemble.RandomForestClassifier.html\n",
    "\n",
    "##### Необязательная часть 2\n",
    "Вы можете самостоятельно найти другие модели классификации для достижения еще лучшего качества модели. Можете поискать, например, как построить логистическую регрессию или градиентный бустинг."
   ]
  },
  {
   "cell_type": "code",
   "execution_count": 55,
   "metadata": {},
   "outputs": [],
   "source": [
    "# подставьте нужные значения модуля и модели\n",
    "from sklearn.tree import DecisionTreeClassifier\n",
    "from sklearn.ensemble import RandomForestClassifier\n",
    "from sklearn.ensemble import ExtraTreesClassifier\n",
    "\n",
    "from sklearn.metrics import roc_auc_score\n",
    "from sklearn.metrics import roc_curve\n",
    "\n",
    "import matplotlib.pyplot as plt"
   ]
  },
  {
   "cell_type": "code",
   "execution_count": 19,
   "metadata": {},
   "outputs": [
    {
     "name": "stdout",
     "output_type": "stream",
     "text": [
      "auc: 0.6149727682484036\n"
     ]
    }
   ],
   "source": [
    "\n",
    "\n",
    "# подставьте значения для создания модели\n",
    "model = DecisionTreeClassifier()\n",
    "model.fit(train_data, train_labels)\n",
    "prediction = model.predict_proba(test_data)[:,1]\n",
    "\n",
    "auc = roc_auc_score(test_labels, prediction)\n",
    "print(\"auc:\", auc)"
   ]
  },
  {
   "cell_type": "code",
   "execution_count": 50,
   "metadata": {},
   "outputs": [
    {
     "name": "stdout",
     "output_type": "stream",
     "text": [
      "auc rf: 0.9184013083761113\n"
     ]
    }
   ],
   "source": [
    "# подставьте значения для создания модели\n",
    "model_rf = RandomForestClassifier(bootstrap=True, class_weight='balanced', criterion='entropy',\n",
    "            max_depth=50, max_features='auto', max_leaf_nodes=None,\n",
    "            min_impurity_decrease=0.0, min_impurity_split=None,\n",
    "            min_samples_leaf=1, min_samples_split=2,\n",
    "            min_weight_fraction_leaf=0.0, n_estimators=500, n_jobs=None,\n",
    "            oob_score=False, random_state=0, verbose=0, warm_start=False)\n",
    "\n",
    "model_rf.fit(train_data, train_labels)\n",
    "prediction_rf = model_rf.predict_proba(test_data)[:,1]\n",
    "\n",
    "auc_rf = roc_auc_score(test_labels, prediction_rf)\n",
    "print(\"auc rf:\", auc_rf)"
   ]
  },
  {
   "cell_type": "code",
   "execution_count": 58,
   "metadata": {},
   "outputs": [
    {
     "name": "stdout",
     "output_type": "stream",
     "text": [
      "auc et: 0.8525859208714162\n"
     ]
    }
   ],
   "source": [
    "# подставьте значения для создания модели\n",
    "model_et = ExtraTreesClassifier(n_estimators=200,criterion='gini',max_depth=30,\n",
    "                                min_samples_split=2, min_samples_leaf=1, min_weight_fraction_leaf=0.0,\n",
    "                                max_features='auto', max_leaf_nodes=None, min_impurity_decrease=0.0,\n",
    "                                min_impurity_split=None, bootstrap=False, oob_score=False, n_jobs=None,\n",
    "                                random_state=None, verbose=0, warm_start=False, class_weight=None)\n",
    "\n",
    "model_et.fit(train_data, train_labels)\n",
    "prediction_et = model_et.predict_proba(test_data)[:,1]\n",
    "\n",
    "auc_et = roc_auc_score(test_labels, prediction_et)\n",
    "print(\"auc et:\", auc_et)"
   ]
  },
  {
   "cell_type": "code",
   "execution_count": 59,
   "metadata": {},
   "outputs": [
    {
     "data": {
      "text/plain": [
       "[<matplotlib.lines.Line2D at 0x1f09bae828>]"
      ]
     },
     "execution_count": 59,
     "metadata": {},
     "output_type": "execute_result"
    },
    {
     "data": {
      "image/png": "[encoded data removed]",
      "text/plain": [
       "<Figure size 432x288 with 1 Axes>"
      ]
     },
     "metadata": {
      "needs_background": "light"
     },
     "output_type": "display_data"
    }
   ],
   "source": [
    "prediction_probe = model.predict_proba(test_data)[:,1]\n",
    "prediction_probe_rf = model_rf.predict_proba(test_data)[:,1]\n",
    "prediction_probe_et = model_et.predict_proba(test_data)[:,1]\n",
    "\n",
    "fpr_dt,tpr_dt, threshold_dt = roc_curve(test_labels,prediction_probe)\n",
    "fpr_rf,tpr_rf, threshold_rf = roc_curve(test_labels,prediction_probe_rf)\n",
    "fpr_et,tpr_et, threshold_et = roc_curve(test_labels,prediction_probe_et)\n",
    "\n",
    "plt.plot(fpr_dt,tpr_dt)\n",
    "plt.plot(fpr_rf,tpr_rf)\n",
    "plt.plot(fpr_et,tpr_et)"
   ]
  },
  {
   "cell_type": "markdown",
   "metadata": {},
   "source": [
    "### Оценивание задания.\n",
    "\n",
    "Выполните предсказания для контрольных данных, скопируйте и вставьте результат в систему в EdX на странице «Домашнее задание».\n",
    "\n",
    "Критерии оценки:\n",
    "    - AUC меньше 0.7 — незачет\n",
    "    - AUC от 0.7 до 0.8 — 0.8 балла\n",
    "    - AUC от 0.8 до 0.9 — 0.9 балла\n",
    "    - AUC больше 0.9 — 0.9 "
   ]
  },
  {
   "cell_type": "code",
   "execution_count": 54,
   "metadata": {},
   "outputs": [
    {
     "name": "stdout",
     "output_type": "stream",
     "text": [
      "0.804,0.735,0.833,0.922,0.865,0.823,0.857,0.604,0.824,0.776,0.738,0.846,0.651,0.949,0.808,0.890,0.803,0.835,0.704,0.878,0.786,0.808,0.873,0.937,0.867,0.820,0.750,0.772,0.780,0.845,0.927,0.917,0.808,0.892,0.806,0.899,0.828,0.908,0.771,0.834,0.895,0.817,0.894,0.864,0.856,0.745,0.817,0.633,0.902,0.721,0.784,0.884,0.907,0.892,0.887,0.896,0.751,0.866,0.777,0.806,0.862,0.658,0.803,0.868,0.928,0.844,0.887,0.809,0.893,0.848,0.845,0.874,0.872,0.878,0.831,0.872,0.786,0.911,0.798,0.786,0.900,0.648,0.913,0.926,0.838,0.809,0.888,0.712,0.819,0.859,0.897,0.925,0.923,0.926,0.928,0.941,0.891,0.868,0.783,0.890,0.928,0.833,0.917,0.797,0.891,0.830,0.731,0.821,0.840,0.863,0.904,0.802,0.905,0.777,0.832,0.810,0.839,0.621,0.873,0.886,0.935,0.849,0.886,0.919,0.666,0.636,0.731,0.897,0.809,0.762,0.845,0.873,0.956,0.737,0.640,0.847,0.921,0.888,0.692,0.793,0.884,0.710,0.812,0.879,0.895,0.858,0.833,0.741,0.841,0.800,0.884,0.772,0.858,0.927,0.882,0.764,0.858,0.823,0.915,0.813,0.616,0.708,0.874,0.864,0.832,0.892,0.629,0.589,0.931,0.815,0.746,0.867,0.629,0.923,0.941,0.724,0.644,0.645,0.930,0.805,0.927,0.892,0.767,0.838,0.850,0.908,0.819,0.857,0.847,0.881,0.755,0.485,0.868,0.849,0.752,0.805,0.877,0.673,0.901,0.717,0.907,0.869,0.826,0.787,0.843,0.790,0.932,0.608,0.705,0.904,0.640,0.867,0.833,0.783,0.764,0.838,0.857,0.760,0.511,0.671,0.841,0.846,0.822,0.929,0.870,0.776,0.920,0.753,0.849,0.889,0.921,0.891,0.680,0.890,0.931,0.878,0.893,0.883,0.855,0.842,0.789,0.525,0.841,0.853,0.802,0.819,0.868,0.884,0.834,0.839,0.882,0.802,0.914,0.859,0.575,0.859,0.671,0.874,0.807,0.728,0.732,0.857,0.869,0.874,0.848,0.717,0.803,0.666,0.850,0.782,0.849,0.873,0.802,0.611,0.928,0.602,0.883,0.812,0.638,0.887,0.663,0.882,0.855,0.888,0.828,0.899,0.859,0.839,0.904,0.819,0.826,0.910,0.867,0.889,0.864,0.840,0.661,0.816,0.751,0.862,0.943,0.807,0.535,0.777,0.792,0.860,0.768,0.955,0.873,0.846,0.804,0.754,0.812,0.899,0.889,0.721,0.849,0.838,0.646,0.689,0.657,0.820,0.777,0.933,0.872,0.970,0.911,0.900,0.890,0.787,0.883,0.863,0.928,0.866,0.853,0.778,0.789,0.905,0.899,0.848,0.900,0.762,0.836,0.939,0.837,0.870,0.852,0.766,0.869,0.843,0.858,0.948,0.866,0.909,0.841,0.818,0.838,0.934,0.835,0.784,0.733,0.746,0.910,0.854,0.871,0.810,0.802,0.910,0.785,0.932,0.894,0.941,0.905,0.890,0.844,0.799,0.748,0.803,0.591,0.589,0.855,0.849,0.808,0.881,0.874,0.608,0.737,0.880,0.896,0.873,0.801,0.863,0.845,0.945,0.848,0.882,0.841,0.824,0.793,0.961,0.838,0.796,0.739,0.815,0.858,0.719,0.929,0.743,0.815,0.794,0.806,0.861,0.770,0.640,0.748,0.863,0.866,0.828,0.864,0.940,0.890,0.885,0.866,0.771,0.891,0.487,0.884,0.692,0.930,0.910,0.871,0.814,0.903,0.862,0.748,0.855,0.876,0.780,0.882,0.889,0.911,0.796,0.834,0.781,0.906,0.702,0.889,0.764,0.814,0.776,0.906,0.889,0.796,0.639,0.701,0.825,0.930,0.884,0.931,0.885,0.777,0.841,0.893,0.921,0.868,0.833,0.842,0.898,0.837,0.908,0.788,0.922,0.618,0.942,0.882,0.822,0.857,0.817,0.851,0.868,0.875,0.871,0.905,0.781,0.702,0.963,0.861,0.808,0.821,0.755,0.897,0.827,0.876,0.823,0.903,0.899,0.690,0.681,0.743,0.837,0.859,0.824,0.707,0.854,0.916,0.684,0.881,0.897,0.908,0.883,0.856,0.761,0.907,0.706,0.872,0.587,0.698,0.487,0.852,0.832,0.780,0.778,0.911,0.826,0.567,0.840,0.856,0.809,0.916,0.891,0.862,0.682,0.820,0.899,0.904,0.859,0.908,0.895,0.876,0.753,0.851,0.869,0.867,0.813,0.893,0.848,0.782,0.866,0.904,0.798,0.790,0.927,0.882,0.845,0.865,0.890,0.840,0.727,0.722,0.882,0.809,0.762,0.796,0.913,0.785,0.882,0.848,0.937,0.854,0.796,0.809,0.875,0.838,0.873,0.792,0.805,0.932,0.747,0.761,0.592,0.680,0.861,0.884,0.933,0.932,0.875,0.895,0.680,0.870,0.885,0.854,0.877,0.648,0.683,0.837,0.937,0.894,0.754,0.829,0.904,0.815,0.852,0.818,0.875,0.728,0.843,0.880,0.895,0.864,0.888,0.798,0.915,0.931,0.794,0.935,0.765,0.770,0.877,0.818,0.816,0.670,0.893,0.930,0.782,0.897,0.931,0.904,0.897,0.931,0.792,0.850,0.703,0.784,0.842,0.851,0.846,0.780,0.853,0.714,0.871,0.799,0.889,0.739,0.800,0.779,0.912,0.886,0.758,0.748,0.730,0.914,0.617,0.877,0.854,0.609,0.486,0.870,0.540,0.927,0.791,0.885,0.714,0.812,0.899,0.870,0.933,0.792,0.808,0.914,0.864,0.761,0.884,0.825,0.696,0.923,0.899,0.908,0.966,0.688,0.914,0.845,0.922,0.791,0.859,0.844,0.794,0.751,0.885,0.839,0.771,0.863,0.911,0.940,0.670,0.759,0.625,0.875,0.810,0.919,0.848,0.806,0.671,0.689,0.763,0.719,0.598,0.725,0.907,0.806,0.919,0.841,0.637,0.807,0.826,0.884,0.911,0.768,0.896,0.633,0.604,0.895,0.742,0.648,0.665,0.834,0.723,0.674,0.811,0.890,0.799,0.659,0.851,0.880,0.737,0.915,0.824,0.742,0.903,0.805,0.914,0.891,0.748,0.791,0.921,0.772,0.917,0.806,0.650,0.831,0.891,0.827,0.813,0.836,0.712,0.730,0.848,0.745,0.862,0.949,0.892,0.946,0.741,0.612,0.800,0.876,0.883,0.899,0.845,0.734,0.875,0.841,0.707,0.813,0.703,0.785,0.923,0.752,0.903,0.896,0.938,0.933,0.746,0.838,0.869,0.822,0.926,0.879,0.927,0.899,0.693,0.870,0.842,0.874,0.884,0.838,0.844,0.811,0.933,0.816,0.921,0.728,0.731,0.611,0.857,0.901,0.676,0.615,0.873,0.891,0.856,0.901,0.826,0.881,0.902,0.798,0.906,0.662,0.895,0.824,0.826,0.899,0.910,0.834,0.892,0.854,0.792,0.728,0.808,0.770,0.893,0.911,0.843,0.794,0.909,0.649,0.844,0.699,0.855,0.790,0.814,0.740,0.895,0.780,0.885,0.703,0.872,0.680,0.722,0.837,0.900,0.828,0.845,0.852,0.894,0.903,0.865,0.697,0.827,0.856,0.902,0.839,0.744,0.723,0.873,0.880,0.938,0.864,0.735,0.952,0.923,0.911,0.893,0.760,0.754,0.708,0.816,0.848,0.863,0.912,0.815,0.852,0.904,0.821,0.898,0.804,0.867,0.817,0.685,0.732,0.817,0.889,0.866,0.877,0.922,0.748,0.910,0.557,0.827,0.836,0.928,0.953,0.711,0.865,0.852,0.871,0.587,0.646,0.859,0.759,0.839,0.780,0.877,0.935,0.796,0.825,0.849,0.756,0.842,0.852,0.900,0.748,0.820,0.825,0.883,0.678,0.907,0.960,0.757,0.607,0.888,0.873,0.850,0.792,0.838,0.913,0.875,0.942,0.812,0.824,0.870,0.820,0.688,0.756,0.890,0.877,0.601,0.890,0.916,0.890,0.791,0.723,0.844,0.889,0.629,0.841,0.724,0.835,0.861,0.808,0.881,0.879,0.646,0.834,0.579,0.811,0.912,0.905,0.823,0.927,0.879,0.921,0.855,0.882,0.867,0.931,0.822,0.833,0.866,0.860,0.905,0.792,0.792,0.833,0.814,0.730,0.905,0.631,0.883,0.792,0.717,0.821,0.840,0.895,0.716,0.709,0.900,0.863,0.861,0.859,0.901\n"
     ]
    }
   ],
   "source": [
    "data_control = pd.read_csv('control.csv')\n",
    "prediction = model_rf.predict_proba(data_control)[:,1]\n",
    "print(','.join(\"{:.3f}\".format(p) for p in prediction))"
   ]
  },
  {
   "cell_type": "markdown",
   "metadata": {},
   "source": [
    "Выполните строчку выше, скопируйте и вставьте результат в систему в EdX."
   ]
  },
  {
   "cell_type": "markdown",
   "metadata": {},
   "source": [
    "# Дополнительная информация"
   ]
  },
  {
   "cell_type": "markdown",
   "metadata": {},
   "source": [
    "Вам интересно посмотреть, как ваша модель классифицирует реальные отзывы? Ниже приведен код, при помощи которого это можно сделать. Мы преобразуем отзыв в «мешок слов» и подаем на вход модели. Отличие от того, что мы делали ранее, — в модели зафиксирован порядок признаков, поэтому мы передаем дополнительный параметр columns."
   ]
  },
  {
   "cell_type": "code",
   "execution_count": 165,
   "metadata": {},
   "outputs": [
    {
     "name": "stdout",
     "output_type": "stream",
     "text": [
      "Результат автоматической классификации: 0.965\n"
     ]
    }
   ],
   "source": [
    "review = \"Лучший фильм, который я когда-либо видел!\"\n",
    "\n",
    "\n",
    "bows = [text2bow(review)]\n",
    "data_my = pd.DataFrame(bows, columns=train_data.columns).fillna(0.0)\n",
    "score = model.predict_proba(data_my)[:,1][0]\n",
    "print(\"Результат автоматической классификации: {:.3f}\".format(score))"
   ]
  },
  {
   "cell_type": "markdown",
   "metadata": {},
   "source": [
    "Модель мешка слов, которую мы с вами использовали, является простой. Более сложные модели используют порядок слов, а также приводят слова к нормальному виду. Продвинутые современные методы базируются на рекуррентных и сверточных нейросетях. Смотрите: https://habr.com/company/dca/blog/274027/"
   ]
  },
  {
   "cell_type": "code",
   "execution_count": null,
   "metadata": {},
   "outputs": [],
   "source": []
  }
 ],
 "metadata": {
  "kernelspec": {
   "display_name": "Python 3",
   "language": "python",
   "name": "python3"
  },
  "language_info": {
   "codemirror_mode": {
    "name": "ipython",
    "version": 3
   },
   "file_extension": ".py",
   "mimetype": "text/x-python",
   "name": "python",
   "nbconvert_exporter": "python",
   "pygments_lexer": "ipython3",
   "version": "3.7.3"
  }
 },
 "nbformat": 4,
 "nbformat_minor": 2
}
